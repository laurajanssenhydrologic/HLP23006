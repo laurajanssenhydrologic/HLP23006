{
 "cells": [
  {
   "cell_type": "markdown",
   "id": "815ba78b",
   "metadata": {},
   "source": [
    "# Example for reading fou-file for ROI\n",
    "The fou.nc file is read and *variable* is extracted. Next, the mesh data is converted to a raster and saved to a .tiff "
   ]
  },
  {
   "cell_type": "code",
   "execution_count": null,
   "id": "716e703a",
   "metadata": {},
   "outputs": [],
   "source": [
    "import os\n",
    "import sys\n",
    "\n",
    "import matplotlib.pyplot as plt\n",
    "\n",
    "currentdir = os.path.dirname(os.getcwd())\n",
    "sys.path.append(currentdir + \"\\Readers\")\n",
    "\n",
    "from flowmeshreader import load_fou_data, mesh_to_tiff\n",
    "from plotting import raster_plot_with_context"
   ]
  },
  {
   "cell_type": "code",
   "execution_count": null,
   "id": "94c7eb18",
   "metadata": {},
   "outputs": [],
   "source": [
    "# set paths\n",
    "input_file_path = r\"D:\\Work\\Project\\P1414\\Models\\Combined\\V23_WBD_250_exported\\dflowfm\\output\\DFM_fou.nc\"\n",
    "output_file_path = \"D:\\Work\\Project\\P1414\\Models\\Combined\\V23_WBD_250_exported\\dflowfm\\output\\max_depth.tiff\""
   ]
  },
  {
   "cell_type": "code",
   "execution_count": null,
   "id": "db33910e",
   "metadata": {},
   "outputs": [],
   "source": [
    "# raster options\n",
    "resolution = 100  # m\n",
    "dhydro_resolution = 250  # m\n",
    "distance_tol = np.ceil(np.sqrt(2 * dhydro_resolution**2))  # m\n",
    "interpolation = r\"nearest\""
   ]
  },
  {
   "cell_type": "code",
   "execution_count": null,
   "id": "b366dd6d",
   "metadata": {},
   "outputs": [],
   "source": [
    "variable = r\"Mesh2d_fourier002_max_depth\""
   ]
  },
  {
   "cell_type": "code",
   "execution_count": null,
   "id": "85311e39",
   "metadata": {},
   "outputs": [],
   "source": [
    "# load mesh coordinates and data from netCDF \n",
    "node_data = load_fou_data(input_file_path, variable)"
   ]
  },
  {
   "cell_type": "code",
   "execution_count": null,
   "id": "be7c50e6",
   "metadata": {},
   "outputs": [],
   "source": [
    "# convert to raster and save as tiff\n",
    "_, _, grid_data = mesh_to_tiff(\n",
    "    node_data,\n",
    "    input_file_path,\n",
    "    output_file_path,\n",
    "    resolution,\n",
    "    distance_tol,\n",
    "    interpolation=interpolation,\n",
    ")"
   ]
  },
  {
   "cell_type": "code",
   "execution_count": null,
   "id": "ae860844",
   "metadata": {},
   "outputs": [],
   "source": [
    "fig, ax = raster_plot_with_context(\n",
    "    raster_path = output_file_path, \n",
    "    epsg = 28992, \n",
    "    clabel = \"water depth (m)\", \n",
    "    cmap = \"Reds\", \n",
    "    title = \"Maximum water depth\",\n",
    "    )"
   ]
  },
  {
   "cell_type": "code",
   "execution_count": null,
   "id": "5deeedb8",
   "metadata": {},
   "outputs": [],
   "source": []
  }
 ],
 "metadata": {
  "kernelspec": {
   "display_name": "inundation",
   "language": "python",
   "name": "inundation"
  },
  "language_info": {
   "codemirror_mode": {
    "name": "ipython",
    "version": 3
   },
   "file_extension": ".py",
   "mimetype": "text/x-python",
   "name": "python",
   "nbconvert_exporter": "python",
   "pygments_lexer": "ipython3",
   "version": "3.10.5"
  }
 },
 "nbformat": 4,
 "nbformat_minor": 5
}
