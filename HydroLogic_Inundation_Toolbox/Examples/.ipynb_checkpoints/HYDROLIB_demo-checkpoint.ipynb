{
 "cells": [
  {
   "cell_type": "markdown",
   "id": "815ba78b",
   "metadata": {},
   "source": [
    "# Example for reading fou-file for example Tol\n",
    "The fou.nc file is read and *variable* is extracted. Next, the mesh data is converted to a raster and saved to a .tiff "
   ]
  },
  {
   "cell_type": "code",
   "execution_count": 1,
   "id": "716e703a",
   "metadata": {},
   "outputs": [],
   "source": [
    "import os\n",
    "import sys\n",
    "\n",
    "import matplotlib.pyplot as plt\n",
    "\n",
    "currentdir = os.path.dirname(os.getcwd())\n",
    "sys.path.append(currentdir + \"\\Readers\")\n",
    "\n",
    "from flowmeshreader import load_fou_data, mesh_to_tiff\n",
    "from plotting import raster_plot_with_context"
   ]
  },
  {
   "cell_type": "code",
   "execution_count": 2,
   "id": "94c7eb18",
   "metadata": {},
   "outputs": [],
   "source": [
    "# set paths\n",
    "input_file_path = currentdir + r\"\\Data\\Tol\\input\"\n",
    "output_file_path = currentdir + r\"\\Data\\Tol\\output\""
   ]
  },
  {
   "cell_type": "code",
   "execution_count": 3,
   "id": "db33910e",
   "metadata": {},
   "outputs": [],
   "source": [
    "# raster options\n",
    "resolution = 10  # m\n",
    "distance_tol = 36  # m\n",
    "interpolation = r\"nearest\""
   ]
  },
  {
   "cell_type": "code",
   "execution_count": null,
   "id": "5deeedb8",
   "metadata": {},
   "outputs": [],
   "source": []
  }
 ],
 "metadata": {
  "kernelspec": {
   "display_name": "inundation",
   "language": "python",
   "name": "inundation"
  },
  "language_info": {
   "codemirror_mode": {
    "name": "ipython",
    "version": 3
   },
   "file_extension": ".py",
   "mimetype": "text/x-python",
   "name": "python",
   "nbconvert_exporter": "python",
   "pygments_lexer": "ipython3",
   "version": "3.10.5"
  }
 },
 "nbformat": 4,
 "nbformat_minor": 5
}
