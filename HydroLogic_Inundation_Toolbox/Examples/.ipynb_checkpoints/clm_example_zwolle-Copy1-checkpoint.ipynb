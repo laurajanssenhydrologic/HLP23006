{
 "cells": [
  {
   "cell_type": "markdown",
   "id": "79237d07",
   "metadata": {},
   "source": [
    "# Example for reading clm-file for example Tol\n",
    "The clm.nc file is read and *variable* is extracted. Next, the mesh data is manipulated, converted to a raster and saved to a .tiff.\n",
    "\n",
    "Manipulation of the mesh data includes obtaining the arrival time, the maximum rising speed, and the water height h_mrs at which this happen."
   ]
  },
  {
   "cell_type": "code",
   "execution_count": 1,
   "id": "716e703a",
   "metadata": {},
   "outputs": [],
   "source": [
    "import os\n",
    "import sys\n",
    "\n",
    "import matplotlib.pyplot as plt\n",
    "import numpy as np\n",
    "\n",
    "currentdir = os.path.dirname(os.getcwd())\n",
    "sys.path.append(currentdir)\n",
    "sys.path.append(currentdir + \"\\Readers\")\n",
    "\n",
    "from flowmeshreader import load_classmap_data, mesh_to_tiff\n",
    "from inundation_toolbox import arrival_times, height_of_mrs, rising_speeds"
   ]
  },
  {
   "cell_type": "code",
   "execution_count": 2,
   "id": "94c7eb18",
   "metadata": {},
   "outputs": [],
   "source": [
    "# set paths\n",
    "input_file_path = currentdir + r\"\\Data\\Tol\\input\\1PT10_clm.nc\"\n",
    "output_file_path = currentdir + r\"\\Data\\Tol\\output\""
   ]
  },
  {
   "cell_type": "code",
   "execution_count": 3,
   "id": "db33910e",
   "metadata": {},
   "outputs": [],
   "source": [
    "# raster options\n",
    "resolution = 10  # m\n",
    "distance_tol = 36  # m\n",
    "interpolation = r\"nearest\""
   ]
  },
  {
   "cell_type": "code",
   "execution_count": 4,
   "id": "b366dd6d",
   "metadata": {},
   "outputs": [],
   "source": [
    "variable = r\"Mesh2d_waterdepth\""
   ]
  },
  {
   "cell_type": "code",
   "execution_count": 5,
   "id": "85311e39",
   "metadata": {},
   "outputs": [],
   "source": [
    "# load mesh coordinates and data from netCDF \n",
    "clm_data, map_data = load_classmap_data(input_file_path, variable, method=\"lower\")"
   ]
  },
  {
   "cell_type": "code",
   "execution_count": 6,
   "id": "b1a35219",
   "metadata": {},
   "outputs": [],
   "source": [
    "# Prepare inundation specific parameter\n",
    "t_arrival = arrival_times(clm_data, np.timedelta64(60, \"s\"), time_unit=\"h\", arrival_threshold=3)\n",
    "\n",
    "s_rising = rising_speeds(map_data, np.timedelta64(60, \"s\"), time_unit=\"s\")\n",
    "max_s_rising = np.amax(s_rising, axis=0)\n",
    "\n",
    "h_mrs = height_of_mrs(map_data, s_rising)"
   ]
  },
  {
   "cell_type": "code",
   "execution_count": 7,
   "id": "f86f4be9",
   "metadata": {},
   "outputs": [],
   "source": [
    "# Add to lists for looping\n",
    "data_arrays = [t_arrival, max_s_rising, h_mrs]\n",
    "output_paths = [\n",
    "    output_file_path + r\"\\arrival.tiff\",\n",
    "    output_file_path + r\"\\max_rising.tiff\",\n",
    "    output_file_path + r\"\\h_mrs.tiff\",\n",
    "]"
   ]
  },
  {
   "cell_type": "code",
   "execution_count": 8,
   "id": "be7c50e6",
   "metadata": {},
   "outputs": [
    {
     "ename": "KeyboardInterrupt",
     "evalue": "",
     "output_type": "error",
     "traceback": [
      "\u001b[1;31m---------------------------------------------------------------------------\u001b[0m",
      "\u001b[1;31mKeyboardInterrupt\u001b[0m                         Traceback (most recent call last)",
      "Input \u001b[1;32mIn [8]\u001b[0m, in \u001b[0;36m<cell line: 1>\u001b[1;34m()\u001b[0m\n\u001b[0;32m      1\u001b[0m \u001b[38;5;28;01mfor\u001b[39;00m data, output_file_path \u001b[38;5;129;01min\u001b[39;00m \u001b[38;5;28mzip\u001b[39m(data_arrays, output_paths):\n\u001b[1;32m----> 2\u001b[0m     _, _, grid_data \u001b[38;5;241m=\u001b[39m \u001b[43mmesh_to_tiff\u001b[49m\u001b[43m(\u001b[49m\n\u001b[0;32m      3\u001b[0m \u001b[43m        \u001b[49m\u001b[43mdata\u001b[49m\u001b[43m,\u001b[49m\n\u001b[0;32m      4\u001b[0m \u001b[43m        \u001b[49m\u001b[43minput_file_path\u001b[49m\u001b[43m,\u001b[49m\n\u001b[0;32m      5\u001b[0m \u001b[43m        \u001b[49m\u001b[43moutput_file_path\u001b[49m\u001b[43m,\u001b[49m\n\u001b[0;32m      6\u001b[0m \u001b[43m        \u001b[49m\u001b[43mresolution\u001b[49m\u001b[43m,\u001b[49m\n\u001b[0;32m      7\u001b[0m \u001b[43m        \u001b[49m\u001b[43mdistance_tol\u001b[49m\u001b[43m,\u001b[49m\n\u001b[0;32m      8\u001b[0m \u001b[43m        \u001b[49m\u001b[43minterpolation\u001b[49m\u001b[38;5;241;43m=\u001b[39;49m\u001b[43minterpolation\u001b[49m\u001b[43m,\u001b[49m\n\u001b[0;32m      9\u001b[0m \u001b[43m    \u001b[49m\u001b[43m)\u001b[49m\n\u001b[0;32m     11\u001b[0m     fig \u001b[38;5;241m=\u001b[39m plt\u001b[38;5;241m.\u001b[39mfigure()\n\u001b[0;32m     12\u001b[0m     plt\u001b[38;5;241m.\u001b[39mimshow(grid_data[\u001b[38;5;241m-\u001b[39m\u001b[38;5;241m1\u001b[39m::\u001b[38;5;241m-\u001b[39m\u001b[38;5;241m1\u001b[39m, :])\n",
      "File \u001b[1;32mD:\\Work\\git\\Hydrolib\\contrib\\HydroLogic\\contrib\\HydroLogic_Inundation_toolbox\\Readers\\flowmeshreader.py:319\u001b[0m, in \u001b[0;36mmesh_to_tiff\u001b[1;34m(data, input_file_path, output_file_path, resolution, distance_tol, interpolation)\u001b[0m\n\u001b[0;32m    316\u001b[0m grid_x, grid_y, bounds \u001b[38;5;241m=\u001b[39m create_raster(node_x, node_y, resolution)\n\u001b[0;32m    318\u001b[0m \u001b[38;5;66;03m# map mesh data to grid and set raster points outside of distance_tol form a mesh node to nan\u001b[39;00m\n\u001b[1;32m--> 319\u001b[0m new_grid_data \u001b[38;5;241m=\u001b[39m \u001b[43mmesh_data_to_raster\u001b[49m\u001b[43m(\u001b[49m\n\u001b[0;32m    320\u001b[0m \u001b[43m    \u001b[49m\u001b[43mnode_x\u001b[49m\u001b[43m,\u001b[49m\n\u001b[0;32m    321\u001b[0m \u001b[43m    \u001b[49m\u001b[43mnode_y\u001b[49m\u001b[43m,\u001b[49m\n\u001b[0;32m    322\u001b[0m \u001b[43m    \u001b[49m\u001b[43mdata\u001b[49m\u001b[43m,\u001b[49m\n\u001b[0;32m    323\u001b[0m \u001b[43m    \u001b[49m\u001b[43mgrid_x\u001b[49m\u001b[43m,\u001b[49m\n\u001b[0;32m    324\u001b[0m \u001b[43m    \u001b[49m\u001b[43mgrid_y\u001b[49m\u001b[43m,\u001b[49m\n\u001b[0;32m    325\u001b[0m \u001b[43m    \u001b[49m\u001b[43minterpolation\u001b[49m\u001b[38;5;241;43m=\u001b[39;49m\u001b[43minterpolation\u001b[49m\u001b[43m,\u001b[49m\n\u001b[0;32m    326\u001b[0m \u001b[43m    \u001b[49m\u001b[43mdistance_tol\u001b[49m\u001b[38;5;241;43m=\u001b[39;49m\u001b[43mdistance_tol\u001b[49m\u001b[43m,\u001b[49m\n\u001b[0;32m    327\u001b[0m \u001b[43m\u001b[49m\u001b[43m)\u001b[49m\n\u001b[0;32m    329\u001b[0m \u001b[38;5;66;03m# read crs from input file\u001b[39;00m\n\u001b[0;32m    330\u001b[0m nc \u001b[38;5;241m=\u001b[39m Dataset(input_file_path)\n",
      "File \u001b[1;32mD:\\Work\\git\\Hydrolib\\contrib\\HydroLogic\\contrib\\HydroLogic_Inundation_toolbox\\Readers\\flowmeshreader.py:224\u001b[0m, in \u001b[0;36mmesh_data_to_raster\u001b[1;34m(node_x, node_y, node_data, grid_x, grid_y, interpolation, distance_tol)\u001b[0m\n\u001b[0;32m    222\u001b[0m \u001b[38;5;66;03m# map data from mesh network to raster\u001b[39;00m\n\u001b[0;32m    223\u001b[0m points \u001b[38;5;241m=\u001b[39m \u001b[38;5;28mlist\u001b[39m(\u001b[38;5;28mzip\u001b[39m(node_x, node_y))\n\u001b[1;32m--> 224\u001b[0m grid_data \u001b[38;5;241m=\u001b[39m \u001b[43mgriddata\u001b[49m\u001b[43m(\u001b[49m\u001b[43mpoints\u001b[49m\u001b[43m,\u001b[49m\u001b[43m \u001b[49m\u001b[43mnode_data\u001b[49m\u001b[43m,\u001b[49m\u001b[43m \u001b[49m\u001b[43m(\u001b[49m\u001b[43mgrid_x\u001b[49m\u001b[43m,\u001b[49m\u001b[43m \u001b[49m\u001b[43mgrid_y\u001b[49m\u001b[43m)\u001b[49m\u001b[43m,\u001b[49m\u001b[43m \u001b[49m\u001b[43mmethod\u001b[49m\u001b[38;5;241;43m=\u001b[39;49m\u001b[43minterpolation\u001b[49m\u001b[43m)\u001b[49m\n\u001b[0;32m    226\u001b[0m \u001b[38;5;28;01mif\u001b[39;00m distance_tol \u001b[38;5;241m>\u001b[39m \u001b[38;5;241m0\u001b[39m:\n\u001b[0;32m    227\u001b[0m     \u001b[38;5;66;03m# set raster points that are too far away from mesh nodes to zero\u001b[39;00m\n\u001b[0;32m    228\u001b[0m     \u001b[38;5;66;03m# Store mesh points and raster points in KDTrees and compute distance if < distance_tol\u001b[39;00m\n\u001b[0;32m    229\u001b[0m     meshtree \u001b[38;5;241m=\u001b[39m KDTree(points)\n",
      "File \u001b[1;32m~\\Miniconda3\\envs\\inundation\\lib\\site-packages\\scipy\\interpolate\\_ndgriddata.py:258\u001b[0m, in \u001b[0;36mgriddata\u001b[1;34m(points, values, xi, method, fill_value, rescale)\u001b[0m\n\u001b[0;32m    256\u001b[0m \u001b[38;5;28;01melif\u001b[39;00m method \u001b[38;5;241m==\u001b[39m \u001b[38;5;124m'\u001b[39m\u001b[38;5;124mnearest\u001b[39m\u001b[38;5;124m'\u001b[39m:\n\u001b[0;32m    257\u001b[0m     ip \u001b[38;5;241m=\u001b[39m NearestNDInterpolator(points, values, rescale\u001b[38;5;241m=\u001b[39mrescale)\n\u001b[1;32m--> 258\u001b[0m     \u001b[38;5;28;01mreturn\u001b[39;00m \u001b[43mip\u001b[49m\u001b[43m(\u001b[49m\u001b[43mxi\u001b[49m\u001b[43m)\u001b[49m\n\u001b[0;32m    259\u001b[0m \u001b[38;5;28;01melif\u001b[39;00m method \u001b[38;5;241m==\u001b[39m \u001b[38;5;124m'\u001b[39m\u001b[38;5;124mlinear\u001b[39m\u001b[38;5;124m'\u001b[39m:\n\u001b[0;32m    260\u001b[0m     ip \u001b[38;5;241m=\u001b[39m LinearNDInterpolator(points, values, fill_value\u001b[38;5;241m=\u001b[39mfill_value,\n\u001b[0;32m    261\u001b[0m                               rescale\u001b[38;5;241m=\u001b[39mrescale)\n",
      "File \u001b[1;32m~\\Miniconda3\\envs\\inundation\\lib\\site-packages\\scipy\\interpolate\\_ndgriddata.py:110\u001b[0m, in \u001b[0;36mNearestNDInterpolator.__call__\u001b[1;34m(self, *args)\u001b[0m\n\u001b[0;32m    108\u001b[0m xi \u001b[38;5;241m=\u001b[39m \u001b[38;5;28mself\u001b[39m\u001b[38;5;241m.\u001b[39m_check_call_shape(xi)\n\u001b[0;32m    109\u001b[0m xi \u001b[38;5;241m=\u001b[39m \u001b[38;5;28mself\u001b[39m\u001b[38;5;241m.\u001b[39m_scale_x(xi)\n\u001b[1;32m--> 110\u001b[0m dist, i \u001b[38;5;241m=\u001b[39m \u001b[38;5;28;43mself\u001b[39;49m\u001b[38;5;241;43m.\u001b[39;49m\u001b[43mtree\u001b[49m\u001b[38;5;241;43m.\u001b[39;49m\u001b[43mquery\u001b[49m\u001b[43m(\u001b[49m\u001b[43mxi\u001b[49m\u001b[43m)\u001b[49m\n\u001b[0;32m    111\u001b[0m \u001b[38;5;28;01mreturn\u001b[39;00m \u001b[38;5;28mself\u001b[39m\u001b[38;5;241m.\u001b[39mvalues[i]\n",
      "File \u001b[1;32m_ckdtree.pyx:827\u001b[0m, in \u001b[0;36mscipy.spatial._ckdtree.cKDTree.query\u001b[1;34m()\u001b[0m\n",
      "File \u001b[1;32m<__array_function__ internals>:177\u001b[0m, in \u001b[0;36mreshape\u001b[1;34m(*args, **kwargs)\u001b[0m\n",
      "\u001b[1;31mKeyboardInterrupt\u001b[0m: "
     ]
    }
   ],
   "source": [
    "for data, output_file_path in zip(data_arrays, output_paths):\n",
    "    _, _, grid_data = mesh_to_tiff(\n",
    "        data,\n",
    "        input_file_path,\n",
    "        output_file_path,\n",
    "        resolution,\n",
    "        distance_tol,\n",
    "        interpolation=interpolation,\n",
    "    )\n",
    "\n",
    "    fig = plt.figure()\n",
    "    plt.imshow(grid_data[-1::-1, :])"
   ]
  },
  {
   "cell_type": "code",
   "execution_count": null,
   "id": "86c2b60d",
   "metadata": {},
   "outputs": [],
   "source": [
    "# plot\n",
    "plt.show()"
   ]
  },
  {
   "cell_type": "code",
   "execution_count": null,
   "id": "ae860844",
   "metadata": {},
   "outputs": [],
   "source": []
  }
 ],
 "metadata": {
  "kernelspec": {
   "display_name": "inundation",
   "language": "python",
   "name": "inundation"
  },
  "language_info": {
   "codemirror_mode": {
    "name": "ipython",
    "version": 3
   },
   "file_extension": ".py",
   "mimetype": "text/x-python",
   "name": "python",
   "nbconvert_exporter": "python",
   "pygments_lexer": "ipython3",
   "version": "3.10.5"
  }
 },
 "nbformat": 4,
 "nbformat_minor": 5
}
