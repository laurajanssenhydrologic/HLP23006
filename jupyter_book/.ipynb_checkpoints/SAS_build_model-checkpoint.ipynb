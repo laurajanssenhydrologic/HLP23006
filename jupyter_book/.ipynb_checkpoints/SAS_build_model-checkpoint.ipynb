{
 "cells": [
  {
   "cell_type": "markdown",
   "id": "79000794",
   "metadata": {},
   "source": [
    "# ROI - Build Model"
   ]
  },
  {
   "cell_type": "markdown",
   "id": "38a90c8a",
   "metadata": {},
   "source": [
    "## 0. Imports\n"
   ]
  },
  {
   "cell_type": "code",
   "execution_count": null,
   "id": "257fcf15",
   "metadata": {},
   "outputs": [],
   "source": [
    "import sys\n",
    "# voeg hier de locatie van de ROI code toe:\n",
    "sys.path.append(\"D:\\Work\\git\\GIS_tools\\Code\")\n",
    "\n",
    "from data_structures.dhydro_data import DHydroData"
   ]
  },
  {
   "cell_type": "markdown",
   "id": "d481ccc2",
   "metadata": {},
   "source": [
    "## 1. Input\n",
    "\n",
    "Hier kan je uitleg toeveogen Ludo. Dubbelklik op deze cell, pas tekst aan, run cell\n"
   ]
  },
  {
   "cell_type": "code",
   "execution_count": null,
   "id": "ac9f7fb2",
   "metadata": {},
   "outputs": [],
   "source": [
    "# voeg hier de locatie van de input data toe:\n",
    "folder = r\"D:\\Work\\Project\\P1414\"\n",
    "\n",
    "# voeg hier de locatie van de output data toe:\n",
    "output_folder = r\"D:\\Work\\Project\\P1414\\Models\\Combined\\V16_HHD\"\n",
    "\n",
    "# selecteer hier welke acties je wil uitvoeren:\n",
    "build_database = True\n",
    "load_gpkgs = False\n",
    "build_model = True\n",
    "\n",
    "\n",
    "gpkg_file = folder + r\"\\GIS\\HYDAMO\\Combined_test_v16_HHD.gpkg\"\n",
    "gpkgs_list = [\n",
    "    r\"D:\\Work\\Project\\P1414\\GIS\\HYDAMO\\HHSK.gpkg\",\n",
    "    r\"D:\\Work\\Project\\P1414\\GIS\\HYDAMO\\HDSR.gpkg\",\n",
    "    r\"D:\\Work\\Project\\P1414\\GIS\\HYDAMO\\HHD.gpkg\",\n",
    "    r\"D:\\Work\\Project\\P1414\\GIS\\HYDAMO\\HHR.gpkg\",\n",
    "    r\"D:\\Work\\Project\\P1414\\GIS\\HYDAMO\\WAGV.gpkg\",\n",
    "    r\"D:\\Work\\Project\\P1414\\GIS\\HYDAMO\\ARKNZK.gpkg\",\n",
    "    r\"D:\\Work\\Project\\P1414\\GIS\\HYDAMO\\Rijntakken.gpkg\",\n",
    "    r\"D:\\Work\\Project\\P1414\\GIS\\HYDAMO\\RMM_closed.gpkg\",\n",
    "    r\"D:\\Work\\Project\\P1414\\GIS\\HYDAMO\\noordzee_hoog.gpkg\",\n",
    "    r\"D:\\Work\\Project\\P1414\\GIS\\HYDAMO\\markermeer.gpkg\",\n",
    "    r\"D:\\Work\\Project\\P1414\\GIS\\HYDAMO\\tunnels.gpkg\",\n",
    "    r\"D:\\Work\\Project\\P1414\\GIS\\HYDAMO\\Ontbrekende_stuwen.gpkg\",\n",
    "]\n",
    "\n",
    "config_dhydro = r\"combined_HHD_config\"\n",
    "config_list = [\n",
    "    r\"hhsk_config\",\n",
    "    r\"hdsr_config\",\n",
    "    r\"hhd_config\",\n",
    "    r\"hhr_config\",\n",
    "    r\"wagv_config\",\n",
    "    r\"ark_nzk_config\",\n",
    "    r\"rijntakken_config\",\n",
    "    r\"rijnmaasmonding_config\",\n",
    "    r\"noordzee_config\",\n",
    "    r\"markermeer_config\",\n",
    "]\n",
    "snap_dist_list = [0, 0, 10, 10, 50, 10, 10, 100, 100, 100, 0, 0]\n",
    "\n",
    "defaults = r\"defaults\""
   ]
  },
  {
   "cell_type": "markdown",
   "id": "b53244b4",
   "metadata": {},
   "source": [
    "## 2. Build geopackage database\n",
    "\n",
    "Hier kan je uitleg toeveogen Ludo. Dubbelklik op deze cell, pas tekst aan, run cell\n"
   ]
  },
  {
   "cell_type": "code",
   "execution_count": null,
   "id": "ef0964d5",
   "metadata": {},
   "outputs": [],
   "source": [
    "if build_database:\n",
    "    dhd = DHydroData()\n",
    "    for ix, config in enumerate(config_list):\n",
    "        print(\"\\n\" + config)\n",
    "\n",
    "        dhd.hydamo_from_raw_data(\n",
    "            defaults=defaults, config=config, branch_snap_dist=snap_dist_list[ix]\n",
    "        )\n",
    "        try:\n",
    "            dhd.fixed_weirs_from_raw_data(config=config, defaults=defaults)\n",
    "        except AttributeError:\n",
    "            pass\n",
    "\n",
    "    dhd.clip_structures_by_branches()\n",
    "    dhd.fixed_weirs_from_raw_data(config=\"wegen_config\", defaults=defaults)\n",
    "    dhd.fixed_weirs_from_raw_data(config=\"relief_config\", defaults=defaults)\n",
    "    dhd.fixed_weirs_from_raw_data(config=\"noordzeekeringen_config\", defaults=defaults)\n",
    "    # dhd.dambreaks_from_config(config=\"dambreak_v0_config\", defaults=defaults)\n",
    "    dhd.hydamo_to_gpkg(output_gpkg=gpkg_file)\n",
    "\n"
   ]
  },
  {
   "cell_type": "markdown",
   "id": "0430d79e",
   "metadata": {},
   "source": [
    "## 3. Load geopackage\n",
    "\n",
    "Hier kan je uitleg toeveogen Ludo. Dubbelklik op deze cell, pas tekst aan, run cell\n"
   ]
  },
  {
   "cell_type": "code",
   "execution_count": null,
   "id": "ef3ea187",
   "metadata": {},
   "outputs": [],
   "source": [
    "if load_gpkgs:\n",
    "    dhd = DHydroData()\n",
    "    for ix, gpkg in enumerate(gpkgs_list):\n",
    "        print(\"\\n\" + gpkg)\n",
    "\n",
    "        # 2. load data\n",
    "        dhd.hydamo_from_gpkg(gpkg, branch_snap_dist=snap_dist_list[ix])\n",
    "\n",
    "    dhd.fixed_weirs_from_raw_data(config=\"wegen_config\", defaults=defaults)\n",
    "    dhd.fixed_weirs_from_raw_data(config=\"relief_config\", defaults=defaults)\n",
    "    dhd.fixed_weirs_from_raw_data(config=\"noordzeekeringen_config\", defaults=defaults)\n",
    "    # dhd.dambreaks_from_config(config=\"dambreak_v0_config\", defaults=defaults)\n",
    "    dhd.hydamo_to_gpkg(output_gpkg=gpkg_file)\n"
   ]
  },
  {
   "cell_type": "markdown",
   "id": "6f537083",
   "metadata": {},
   "source": [
    "## 4. Build model\n",
    "\n",
    "Hier kan je uitleg toeveogen Ludo. Dubbelklik op deze cell, pas tekst aan, run cell\n"
   ]
  },
  {
   "cell_type": "code",
   "execution_count": null,
   "id": "ca72a16e",
   "metadata": {},
   "outputs": [],
   "source": [
    "if build_model:\n",
    "    # 1. initialize an instance of DHydamoData\n",
    "    dhd = DHydroData()\n",
    "\n",
    "    # 2. load data\n",
    "    dhd.hydamo_from_gpkg(gpkg_file)\n",
    "\n",
    "    # remove brug as it needs a cs\n",
    "    del dhd.ddm.brug\n",
    "    dhd.features.remove(\"brug\")\n",
    "    dhd.ddm.pomp[\"maximalecapaciteit\"] = 0\n",
    "\n",
    "    # 3. save as dhydro model\n",
    "    dhd.to_dhydro(config=config_dhydro, output_folder=output_folder)\n"
   ]
  }
 ],
 "metadata": {
  "kernelspec": {
   "display_name": "Python 3 (ipykernel)",
   "language": "python",
   "name": "python3"
  },
  "language_info": {
   "codemirror_mode": {
    "name": "ipython",
    "version": 3
   },
   "file_extension": ".py",
   "mimetype": "text/x-python",
   "name": "python",
   "nbconvert_exporter": "python",
   "pygments_lexer": "ipython3",
   "version": "3.10.8"
  }
 },
 "nbformat": 4,
 "nbformat_minor": 5
}
