{
 "cells": [
  {
   "cell_type": "markdown",
   "id": "4f69df7c",
   "metadata": {},
   "source": [
    "# 1. Pre-processor"
   ]
  },
  {
   "cell_type": "markdown",
   "id": "cb58b91d",
   "metadata": {},
   "source": [
    "### Imports"
   ]
  },
  {
   "cell_type": "code",
   "execution_count": 1,
   "id": "ee26c317",
   "metadata": {},
   "outputs": [],
   "source": [
    "import os\n",
    "import sys\n",
    "import numpy as np\n",
    "git_dir = r\"C:\\Werk\\Projecten\\P1414_ROI\\Github_P1414\\P1414\"\n",
    "sys.path.append(os.path.join(git_dir, 'Code'))\n",
    "sys.path.append(os.path.join(git_dir, 'HydroLogic_Inundation_toolbox'))\n",
    "sys.path.append(os.path.join(git_dir, 'HydroLogic_Inundation_toolbox/Readers'))\n"
   ]
  },
  {
   "cell_type": "markdown",
   "id": "dfc7867f",
   "metadata": {},
   "source": [
    "### Model settings"
   ]
  },
  {
   "cell_type": "code",
   "execution_count": 3,
   "id": "32d0b074",
   "metadata": {},
   "outputs": [
    {
     "data": {
      "application/vnd.jupyter.widget-view+json": {
       "model_id": "757eae4118ab434f96e7ddd794d8c700",
       "version_major": 2,
       "version_minor": 0
      },
      "text/plain": [
       "Text(value='D:\\\\Work\\\\Project\\\\P1414', description='Path to GIS folder:', layout=Layout(width='50%'), placehol…"
      ]
     },
     "metadata": {},
     "output_type": "display_data"
    },
    {
     "data": {
      "application/vnd.jupyter.widget-view+json": {
       "model_id": "54b1aaf39190493b9181bb10bcc69a81",
       "version_major": 2,
       "version_minor": 0
      },
      "text/plain": [
       "Text(value='D:\\\\Work\\\\Project\\\\P1414', description='Export folder for model:', layout=Layout(width='50%'), pla…"
      ]
     },
     "metadata": {},
     "output_type": "display_data"
    },
    {
     "data": {
      "application/vnd.jupyter.widget-view+json": {
       "model_id": "648aa3afc6f64599bd29500048f7fb83",
       "version_major": 2,
       "version_minor": 0
      },
      "text/plain": [
       "SelectMultiple(description='gpkgs to include:', index=(0, 1, 2, 3, 4, 5, 6, 7), layout=Layout(width='50%'), op…"
      ]
     },
     "metadata": {},
     "output_type": "display_data"
    },
    {
     "data": {
      "application/vnd.jupyter.widget-view+json": {
       "model_id": "cdb8c70a9264492e9c43a1aa869a0291",
       "version_major": 2,
       "version_minor": 0
      },
      "text/plain": [
       "Checkbox(value=False, description='Build database', layout=Layout(width='50%'), style=CheckboxStyle(descriptio…"
      ]
     },
     "metadata": {},
     "output_type": "display_data"
    },
    {
     "data": {
      "application/vnd.jupyter.widget-view+json": {
       "model_id": "59e0112939ee40ecb3c80862ba10327b",
       "version_major": 2,
       "version_minor": 0
      },
      "text/plain": [
       "Checkbox(value=False, description='Load gpkgs', layout=Layout(width='50%'), style=CheckboxStyle(description_wi…"
      ]
     },
     "metadata": {},
     "output_type": "display_data"
    },
    {
     "data": {
      "application/vnd.jupyter.widget-view+json": {
       "model_id": "b0d1f3733aa94b29bcbba07a263f2e4d",
       "version_major": 2,
       "version_minor": 0
      },
      "text/plain": [
       "Checkbox(value=False, description='Build model', layout=Layout(width='50%'), style=CheckboxStyle(description_w…"
      ]
     },
     "metadata": {},
     "output_type": "display_data"
    },
    {
     "data": {
      "application/vnd.jupyter.widget-view+json": {
       "model_id": "34a8b575bd104e4dbab495888d26fa5a",
       "version_major": 2,
       "version_minor": 0
      },
      "text/plain": [
       "Button(description='Update settings', style=ButtonStyle())"
      ]
     },
     "metadata": {},
     "output_type": "display_data"
    },
    {
     "data": {
      "application/vnd.jupyter.widget-view+json": {
       "model_id": "009e39b38c53490fa940a5c39e17b656",
       "version_major": 2,
       "version_minor": 0
      },
      "text/plain": [
       "Output()"
      ]
     },
     "metadata": {},
     "output_type": "display_data"
    },
    {
     "data": {
      "text/plain": [
       "'Model settings are:'"
      ]
     },
     "metadata": {},
     "output_type": "display_data"
    },
    {
     "name": "stdout",
     "output_type": "stream",
     "text": [
      "{\n",
      "    \"folder\": \"D:\\\\Work\\\\Project\\\\P1414\",\n",
      "    \"build_database\": false,\n",
      "    \"load_gpkgs\": false,\n",
      "    \"build_model\": false,\n",
      "    \"gpkgs_to_include\": [\n",
      "        \"HHSK\",\n",
      "        \"HDSR\",\n",
      "        \"HHD\",\n",
      "        \"HHR\",\n",
      "        \"WAGV\",\n",
      "        \"ARKNZK\",\n",
      "        \"Rijntakken\",\n",
      "        \"RMM\"\n",
      "    ],\n",
      "    \"output_folder\": \"D:\\\\Work\\\\Project\\\\P1414\"\n",
      "}\n"
     ]
    }
   ],
   "source": [
    "from notebooks.background_scripting.preprocess import ModelSettings, ModelFromNotebook\n",
    "\n",
    "model_settings = ModelSettings()\n",
    "model_settings.display_widgets()"
   ]
  },
  {
   "cell_type": "markdown",
   "id": "46d30b8f",
   "metadata": {},
   "source": [
    "### Build model"
   ]
  },
  {
   "cell_type": "code",
   "execution_count": 4,
   "id": "97673ca0",
   "metadata": {},
   "outputs": [],
   "source": [
    "model_container = ModelFromNotebook(model_settings.settings)   \n",
    "# model_container.build_model()"
   ]
  },
  {
   "cell_type": "markdown",
   "id": "162fde0d",
   "metadata": {},
   "source": [
    "# 2. Run Model"
   ]
  },
  {
   "cell_type": "code",
   "execution_count": null,
   "id": "cce9c136",
   "metadata": {},
   "outputs": [],
   "source": [
    "model_container.run_model()"
   ]
  },
  {
   "cell_type": "markdown",
   "id": "3c275757",
   "metadata": {},
   "source": [
    "# 3. Post processing"
   ]
  },
  {
   "cell_type": "markdown",
   "id": "3ccacb2c",
   "metadata": {},
   "source": [
    "### Make plot"
   ]
  },
  {
   "cell_type": "code",
   "execution_count": 1,
   "id": "a40d5d5b",
   "metadata": {},
   "outputs": [
    {
     "ename": "ModuleNotFoundError",
     "evalue": "No module named 'notebooks'",
     "output_type": "error",
     "traceback": [
      "\u001b[1;31m---------------------------------------------------------------------------\u001b[0m",
      "\u001b[1;31mModuleNotFoundError\u001b[0m                       Traceback (most recent call last)",
      "Cell \u001b[1;32mIn[1], line 1\u001b[0m\n\u001b[1;32m----> 1\u001b[0m \u001b[38;5;28;01mfrom\u001b[39;00m \u001b[38;5;21;01mnotebooks\u001b[39;00m\u001b[38;5;21;01m.\u001b[39;00m\u001b[38;5;21;01mbackground_scripting\u001b[39;00m\u001b[38;5;21;01m.\u001b[39;00m\u001b[38;5;21;01mpostprocess\u001b[39;00m \u001b[38;5;28;01mimport\u001b[39;00m PlotSettings, ModelPlotter\n\u001b[0;32m      3\u001b[0m plot_settings \u001b[38;5;241m=\u001b[39m PlotSettings(model_container)\n\u001b[0;32m      4\u001b[0m plot_settings\u001b[38;5;241m.\u001b[39mdisplay_widgets()\n",
      "\u001b[1;31mModuleNotFoundError\u001b[0m: No module named 'notebooks'"
     ]
    }
   ],
   "source": [
    "from notebooks.background_scripting.postprocess import PlotSettings, ModelPlotter\n",
    "\n",
    "plot_settings = PlotSettings(model_container)\n",
    "plot_settings.display_widgets()"
   ]
  },
  {
   "cell_type": "code",
   "execution_count": null,
   "id": "fd21fa54",
   "metadata": {},
   "outputs": [],
   "source": []
  }
 ],
 "metadata": {
  "kernelspec": {
   "display_name": "Python 3 (ipykernel)",
   "language": "python",
   "name": "python3"
  },
  "language_info": {
   "codemirror_mode": {
    "name": "ipython",
    "version": 3
   },
   "file_extension": ".py",
   "mimetype": "text/x-python",
   "name": "python",
   "nbconvert_exporter": "python",
   "pygments_lexer": "ipython3",
   "version": "3.10.10"
  }
 },
 "nbformat": 4,
 "nbformat_minor": 5
}
