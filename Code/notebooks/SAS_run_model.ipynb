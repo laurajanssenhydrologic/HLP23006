{
 "cells": [
  {
   "cell_type": "markdown",
   "id": "ed2f2184",
   "metadata": {},
   "source": [
    "# ROI Stand Alone Service"
   ]
  },
  {
   "cell_type": "markdown",
   "id": "ed718d14",
   "metadata": {},
   "source": [
    "# 0. Imports\n",
    "\n",
    "1. Verander **git_dir** in de map op jouw computer met de code. <br>\n",
    "2. Run vervolgens de cell door met de **Run** knop bovenin het scherm of door **ctrl+enter** te drukken. <br>\n",
    "Het bolletje rechts boven geeft aan of het notebook bezig is (naast Python 3 (ipykernel)). Als deze zwart gekleurd is, dan is het notebook bezig.<br>\n",
    "Als er \"Imports are succesfull!\" onder de cell komt te staan na het uitvoeren, dan is deze cell succesvol uitgevoerd. <br>"
   ]
  },
  {
   "cell_type": "code",
   "execution_count": null,
   "id": "a1ec636f",
   "metadata": {},
   "outputs": [],
   "source": [
    "import os\n",
    "import sys\n",
    "import numpy as np\n",
    "import shutil\n",
    "%load_ext autoreload\n",
    "%autoreload 2\n",
    "\n",
    "# insert the directory where you extracted the zip file here:\n",
    "git_dir = r\"C:\\Werk\\Projecten\\P1414_ROI\\Github_P1414\\P1414\"\n",
    "\n",
    "sys.path.append(os.path.join(git_dir, 'Code'))\n",
    "sys.path.append(os.path.join(git_dir, 'HydroLogic_Inundation_toolbox'))\n",
    "sys.path.append(os.path.join(git_dir, 'HydroLogic_Inundation_toolbox/Readers'))\n",
    "\n",
    "from notebooks.background_scripting.v1.test_connection import TestConnection\n",
    "test_connection = TestConnection()"
   ]
  },
  {
   "cell_type": "markdown",
   "id": "340276cd",
   "metadata": {},
   "source": [
    "# 1. Model specifications "
   ]
  },
  {
   "cell_type": "markdown",
   "id": "13bde66f",
   "metadata": {},
   "source": [
    "## 1.1. Select basemodel\n",
    "De widgets zijn alleen te zien als je het notebook zelf runt! In de documentatie zijn deze niet zichtbaar. <br>\n",
    "1. Run de cell hieronder.<br>\n",
    "2. Vul in de widget \"path to folder with models\" de map in waarin de gedownloade modellen staan. <br>\n",
    "3. Vervolgens klik je update settings en kan je een model selecteren in de lijst. <br>\n",
    "4. Je kan het scenario dat je wil door rekenen ook een naam geven, door deze in te vullen bij \"Scenario name\". <br>\n",
    "5. Ten slotte klik je wederom op update settings."
   ]
  },
  {
   "cell_type": "code",
   "execution_count": null,
   "id": "87885da0",
   "metadata": {},
   "outputs": [],
   "source": [
    "from notebooks.background_scripting.v1.select_basemodel import ModelSettings\n",
    "\n",
    "model_settings = ModelSettings(git_dir)\n",
    "model_settings.display_widgets()"
   ]
  },
  {
   "cell_type": "markdown",
   "id": "46132461",
   "metadata": {},
   "source": [
    "## 1.2. Model settings\n",
    "1. Run de cell hieronder.<br>\n",
    "2. Kies de start- en stoptijd van het model. <br>\n",
    "3. Kies de interval om resultaten weg te schrijven bij \"Interval to write map file\". <br>\n",
    "4. Vul de locatie in van het D-HYDRO script _run_dimr.bat_. Dit scripts is te vinden in de map van je D-HYDRO installatie. De map is waarschijnlijk vergelijkbaar aan de standaard waarde in de widget \"Location of dhydro run_dimr\". <br>\n",
    "5. Klik op \"Update settings <br>"
   ]
  },
  {
   "cell_type": "code",
   "execution_count": null,
   "id": "e406ef18",
   "metadata": {},
   "outputs": [],
   "source": [
    "from notebooks.background_scripting.v1.modify_mdu import ModifyMDU, copy_model\n",
    "\n",
    "model_path = copy_model(os.path.join(model_settings.settings['folder'], model_settings.settings['model']), model_settings.settings['scenario_name'])\n",
    "modify_mdu = ModifyMDU(model_path)\n",
    "modify_mdu.display_widgets()"
   ]
  },
  {
   "cell_type": "markdown",
   "id": "4c3f65d8",
   "metadata": {},
   "source": [
    "## 1.3.1. Dambreak location\n",
    "Kies hieronder zelf een dambreak locatie. <br>\n",
    "1. Run de cell hieronder.<br>\n",
    "2. Kies de locatie van je damdoorbraak. Dit doe je door een lijn te trekken door een dam (rood) heen. Deze lijn moet ook een 1D2D link (groen) snijden. Het kan even duren voordat alle dammen en links zichtbaar zijn. <br>\n",
    "3. Kies het bovenstroomse punt (punt in watergang) voor het water door damdoorbraak stroomt. <br>\n",
    "4. Kies het benedenstroomse punt (grid cell) waar het water naar toe stroomt. <br>\n",
    "5. Bekijk je geselecteerde locatie. Als je niet tevereden bent, run deze cell dan opnieuw."
   ]
  },
  {
   "cell_type": "code",
   "execution_count": null,
   "id": "a74f04d5",
   "metadata": {},
   "outputs": [],
   "source": [
    "from notebooks.background_scripting.v1.modify_dambreak_v3 import DambreakWidget\n",
    "from notebooks.background_scripting.v1.modify_dambreak_v3 import UseTemplateDambreak\n",
    "\n",
    "# if you want, you can select a dambreach from the template by setting this to True. \n",
    "# You can add templates by adding a functioning dike breach location to \\data\\dambreak_database.json.\n",
    "use_template = False \n",
    "if use_template == True:\n",
    "    dambreak_template = UseTemplateDambreak(model_path)\n",
    "    dambreak_template.draw_map()\n",
    "if use_template == False:\n",
    "    dambreakWidget = DambreakWidget(model_path)\n",
    "    dambreakWidget.draw_map()"
   ]
  },
  {
   "cell_type": "markdown",
   "id": "57e82268",
   "metadata": {},
   "source": [
    "## 1.4. Dambreak settings\n",
    "Specificeer de parameters van de Dambreak <br>\n",
    "1. Run de cell hieronder.<br>\n",
    "2. Vul alle velden in met de waardes die je wil.<br>\n",
    "3. Klik op \"update settings\". "
   ]
  },
  {
   "cell_type": "code",
   "execution_count": null,
   "id": "f3989184",
   "metadata": {},
   "outputs": [],
   "source": [
    "from notebooks.background_scripting.v1.modify_dambreak_v3 import ModifyDambreak\n",
    "\n",
    "if use_template == False:\n",
    "    add_dambreak = ModifyDambreak(model_path, dambreakWidget.settings, dambreakWidget.keringen, False, None)\n",
    "else:\n",
    "    add_dambreak = ModifyDambreak(model_path, None, None, True, dambreak_template.kering_choice)\n",
    "add_dambreak.display_widgets()"
   ]
  },
  {
   "cell_type": "markdown",
   "id": "7dcf0ada",
   "metadata": {},
   "source": [
    "## 1.5. Boundary conditions\n",
    "Specificeer de randvoorwaarden van het model. <br>\n",
    "1. Run de cell hieronder.<br>\n",
    "2. Voer het waterlevel in de Noordzee in. <br>\n",
    "3. Voer het waterlevel in het Markermeer in. <br>\n",
    "4. Bepaal de afvoergolf in de Rijn, door de parameters aan te passen.<br>\n",
    "5. Klik op \"update settings\", je ziet dan de huidige instellingen. Je kan dingen nu verder aanpassen, en opnieuw op \"update settings\" klikken, totdat je tevreden bent.\n"
   ]
  },
  {
   "cell_type": "code",
   "execution_count": null,
   "id": "1fd54a0e",
   "metadata": {},
   "outputs": [],
   "source": [
    "from notebooks.background_scripting.v1.modify_boundaries import ModifyBoundaries, ModifyRhineDischarge\n",
    "\n",
    "modify_boundaries = ModifyBoundaries(model_path, modify_mdu.settings, add_dambreak.dambreak_settings)\n",
    "modify_boundaries.display_widgets()"
   ]
  },
  {
   "cell_type": "markdown",
   "id": "39eeb01c",
   "metadata": {},
   "source": [
    "# 2. Run Model\n",
    "Voer een simulatie uit. <br>\n",
    "1. Run de cell hieronder. <br>\n",
    "2. Klik op \"Run model\" <br>\n",
    "3. Het model begint nu. Eerst moet het model initialiseren, dit kan een tijdje duren. Hierna zal het progressie balkje vol lopen. "
   ]
  },
  {
   "cell_type": "code",
   "execution_count": null,
   "id": "385df13e",
   "metadata": {
    "scrolled": true
   },
   "outputs": [],
   "source": [
    "from notebooks.background_scripting.v1.model_runner import ModelRunner\n",
    "\n",
    "model_runner = ModelRunner(model_path)\n",
    "model_runner.display_widgets()"
   ]
  },
  {
   "cell_type": "markdown",
   "id": "2a752357",
   "metadata": {},
   "source": [
    "# 3. Post processing"
   ]
  },
  {
   "cell_type": "markdown",
   "id": "41a32336",
   "metadata": {},
   "source": [
    "## 3.1. Plot map\n",
    "Visualiseer de resultaten op kaart. <br>\n",
    "1. Run de cell hieronder.<br>\n",
    "2. Voer de gewenste parameters in voor de plot. <br>\n",
    "3. Klik op \"Plot map\". De eerste plot duurt iets langer.<br>\n",
    "Indien je een ander model wil bekijken dan je hebt doorgerekend (of als je niks wil doorrekenen), dan kan je dat doen door in de cell hieronder een nieuw model_path toe te voegen. Voeg de volgende lijn toe: <br>\n",
    "_model_path = r\"PATH_TO_MODEL\"_"
   ]
  },
  {
   "cell_type": "code",
   "execution_count": null,
   "id": "e9568659",
   "metadata": {},
   "outputs": [],
   "source": [
    "from notebooks.background_scripting.v1.post_processing import PlotSettingsMap, MapPlotter\n",
    "\n",
    "plot_settings = PlotSettingsMap(model_path)\n",
    "plot_settings.display_widgets()"
   ]
  },
  {
   "cell_type": "markdown",
   "id": "36aeff79",
   "metadata": {},
   "source": [
    "## 3.2. Plot dambreak\n",
    "Maak grafieken van de dambreak variabelen.\n",
    "\n",
    "1. Run de cell hieronder.<br>\n",
    "2. Voer de gewenste parameters in voor de plot. <br>\n",
    "3. Klik op \"Plot breach information\".<br>\n",
    "Indien je een ander model wil bekijken dan je hebt doorgerekend (of als je niks wil doorrekenen), dan kan je dat doen door in de cell hieronder een nieuw model_path toe te voegen. Voeg de volgende lijn toe: <br>\n",
    "_model_path = r\"PATH_TO_MODEL\"_"
   ]
  },
  {
   "cell_type": "code",
   "execution_count": null,
   "id": "276da90f",
   "metadata": {},
   "outputs": [],
   "source": [
    "from notebooks.background_scripting.v1.post_processing import PlotSettingsBreach, BreachPlotter\n",
    "\n",
    "plot_settings = PlotSettingsBreach(model_path)\n",
    "plot_settings.display_widgets()"
   ]
  }
 ],
 "metadata": {
  "kernelspec": {
   "display_name": "Python 3 (ipykernel)",
   "language": "python",
   "name": "python3"
  },
  "language_info": {
   "codemirror_mode": {
    "name": "ipython",
    "version": 3
   },
   "file_extension": ".py",
   "mimetype": "text/x-python",
   "name": "python",
   "nbconvert_exporter": "python",
   "pygments_lexer": "ipython3",
   "version": "3.10.10"
  }
 },
 "nbformat": 4,
 "nbformat_minor": 5
}
