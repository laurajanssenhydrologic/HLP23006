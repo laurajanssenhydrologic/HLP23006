{
 "cells": [
  {
   "cell_type": "markdown",
   "id": "b8dc7bb0",
   "metadata": {},
   "source": [
    "# ROI Modelbouw"
   ]
  },
  {
   "cell_type": "markdown",
   "id": "38a90c8a",
   "metadata": {},
   "source": [
    "# 0. Imports\n"
   ]
  },
  {
   "cell_type": "code",
   "execution_count": 1,
   "id": "257fcf15",
   "metadata": {},
   "outputs": [],
   "source": [
    "import sys\n",
    "\n",
    "# voeg hier de locatie van de ROI code toe:\n",
    "sys.path.append(\"C:\\Werk\\Projecten\\P1414_ROI\\Cursus\\StandAloneServiceZipfile\\Code\")\n",
    "\n",
    "from data_structures.dhydro_data import DHydroData"
   ]
  },
  {
   "cell_type": "markdown",
   "id": "d481ccc2",
   "metadata": {},
   "source": [
    "# 1. Input\n",
    "\n",
    "De eerste stap in het opbouwen van het model is het selecteren van de juiste geodata. Deze geodata, per dataset gebundeld in één geopackage (gpkg) vormt de basis van je model. Het op deze manier selecteren van de geodata laat de gebruiker de mogelijkheid om bepaalde geodata niet mee te nemen in het model. In de huidige versie van het ROI zijn alleen gecombineerde modellen getest, waardoor fouten in modellen gebaseerd op subsets van de data niet zijn uitgesloten. \n"
   ]
  },
  {
   "cell_type": "code",
   "execution_count": 2,
   "id": "ac9f7fb2",
   "metadata": {},
   "outputs": [],
   "source": [
    "# voeg hier de locatie van de input data toe:\n",
    "folder = r\"C:\\Werk\\Projecten\\P1414_ROI\\Cursus\"\n",
    "\n",
    "# voeg hier de locatie toe voor de output van je DHYDRO model:\n",
    "output_folder = r\"C:\\Werk\\Projecten\\P1414_ROI\\Cursus\\OutputModellen\"\n"
   ]
  },
  {
   "cell_type": "markdown",
   "id": "9b2cdb21",
   "metadata": {},
   "source": [
    "### Opties voor modelbouw\n",
    "Voor het bouwen van een model zijn er in het ROI drie opties:\n",
    "- 1. Vanuit de leggerdata\n",
    "- 2. Vanuit de afzonderlijke geopackages\n",
    "- 3. Vanuit een gecombineerd compleet geopackage\n",
    "\n",
    "Optie 2 en 3 zijn het gemakkelijkst en het snelst. In onderstaand codeblok kun je selecteren welke acties je wil uitvoeren.\n",
    "\n",
    "**build_database**: het opbouwen van een gecombineerde geopackage vanuit de leggerdata per afzonderlijke geodata set  \n",
    "**load_gpkgs**: het inladen van bestaande geopackages en deze combineren tot een gecombineerde geopackage  \n",
    "**build_model**: het bouwen van het DHYDRO model op basis van het gecombineerd geopackage  "
   ]
  },
  {
   "cell_type": "code",
   "execution_count": 3,
   "id": "f4b5eaf7",
   "metadata": {},
   "outputs": [],
   "source": [
    "# selecteer hier welke acties je wil uitvoeren:\n",
    "build_database = False\n",
    "load_gpkgs = True\n",
    "build_model = True\n"
   ]
  },
  {
   "cell_type": "code",
   "execution_count": 4,
   "id": "0cbeb908",
   "metadata": {},
   "outputs": [],
   "source": [
    "\n",
    "# Selecteer hier het gewenste gecombineerde geopackage (of geef de locatie van de nieuw te creëren geopackage):\n",
    "gpkg_file = folder + r\"\\GIS\\HYDAMO\\Combined_cursus_ROI.gpkg\"\n",
    "\n",
    "# Of selecteer welke datasets gecombineerd worden in een nieuwe geopackage met bovenstaande naam\n",
    "gpkgs_list = [\n",
    "    folder + r\"\\GIS\\HYDAMO\\HHSK.gpkg\",\n",
    "    folder +r\"\\GIS\\HYDAMO\\HDSR.gpkg\",\n",
    "    folder +r\"\\GIS\\HYDAMO\\HHD.gpkg\",\n",
    "    folder +r\"\\GIS\\HYDAMO\\HHR.gpkg\",\n",
    "    folder +r\"\\GIS\\HYDAMO\\WAGV.gpkg\",\n",
    "    folder +r\"\\GIS\\HYDAMO\\ARKNZK.gpkg\",\n",
    "    folder +r\"\\GIS\\HYDAMO\\Rijntakken.gpkg\",\n",
    "    folder +r\"\\GIS\\HYDAMO\\RMM_closed.gpkg\",\n",
    "    folder +r\"\\GIS\\HYDAMO\\noordzee_hoog.gpkg\",\n",
    "    folder +r\"\\GIS\\HYDAMO\\markermeer.gpkg\",\n",
    "    folder +r\"\\GIS\\HYDAMO\\tunnels.gpkg\",\n",
    "    folder +r\"\\GIS\\HYDAMO\\Ontbrekende_stuwen.gpkg\",\n",
    "]\n"
   ]
  },
  {
   "cell_type": "markdown",
   "id": "40860924",
   "metadata": {},
   "source": [
    "De omzetting van leggerdata naar een HyDAMO compatible geopackage gebeurt aan de hand van config bestanden. In deze bestanden staan de paden naar de juiste databestanden vermeld. Daarnaast worden per dataset afzonderlijk de bestaande attributen gematcht aan de voor HyDAMO benodige attributen. \n",
    "\n",
    "**NB: het werken met al deze config bestanden vereist een grote hoeveelheid aan dataverwijzingen die dienen te worden aangepast. Voor de cursus wordt niet aangeraden om op basis van deze config bestanden een model op te bouwen omwille van deze aanpassingen en de lange doorrekentijd.**\n",
    "\n",
    "Naast de config bestanden voor de afzonderlijke datasets is de _config_dhydro_ van belang. Hierin worden de juiste databestanden voor de opbouw van een 2D grid gespecificeerd (AHN, ruwheid, de extent van het grid) en kunnen een aantal DHYDRO specificaties worden opgegeven.\n",
    "\n",
    "In het config bestand _defaults_ worden alle default waarden gespecificeerd voor het geval de leggerdata daar niet in voorziet. Al deze config bestanden kunnen in code editors of tekst editors (Notepad++, kladblok, etc.) aangepast worden. "
   ]
  },
  {
   "cell_type": "code",
   "execution_count": 5,
   "id": "04a27e7c",
   "metadata": {},
   "outputs": [],
   "source": [
    "# Lijst met config bestanden\n",
    "config_list = [\n",
    "    r\"hhsk_config\",\n",
    "    r\"hdsr_config\",\n",
    "    r\"hhd_config\",\n",
    "    r\"hhr_config\",\n",
    "    r\"wagv_config\",\n",
    "    r\"ark_nzk_config\",\n",
    "    r\"rijntakken_config\",\n",
    "    r\"rijnmaasmonding__closed_config\",\n",
    "    r\"noordzee_hoog_config\",\n",
    "    r\"markermeer_config\",\n",
    "    r\"tunnels_config\",\n",
    "    r\"underpass_config\",\n",
    "    r\"ontbrekende_stuwen_config\",\n",
    "]\n",
    "\n",
    "# Lijst met snap afstanden, van belang voor het aan elkaar koppelen van verschillende databronnen.\n",
    "snap_dist_list = [0, 0, 10, 10, 50, 10, 10, 100, 100, 100, 0, 0]\n",
    "\n",
    "# Naam van DHYDRO config\n",
    "config_dhydro = r\"combined_HHD_config\"\n",
    "defaults = r\"defaults\""
   ]
  },
  {
   "cell_type": "markdown",
   "id": "b53244b4",
   "metadata": {},
   "source": [
    "# 2. Build geopackage database\n",
    "\n",
    "Onderstaand wordt op basis van de verschillende config bestanden een gecombineerde geopackage gecreërd. **Voor deze cursus wordt aangeraden dit deel over te slaan.**\n"
   ]
  },
  {
   "cell_type": "code",
   "execution_count": 14,
   "id": "ef0964d5",
   "metadata": {},
   "outputs": [],
   "source": [
    "if build_database:\n",
    "    dhd = DHydroData()\n",
    "    for ix, config in enumerate(config_list):\n",
    "        print(\"\\n\" + config)\n",
    "\n",
    "        dhd.hydamo_from_raw_data(\n",
    "            defaults=defaults, config=config, branch_snap_dist=snap_dist_list[ix]\n",
    "        )\n",
    "        try:\n",
    "            dhd.fixed_weirs_from_raw_data(config=config, defaults=defaults)\n",
    "        except AttributeError:\n",
    "            pass\n",
    "\n",
    "    dhd.clip_structures_by_branches()\n",
    "    dhd.fixed_weirs_from_raw_data(config=\"wegen_config\", defaults=defaults)\n",
    "    dhd.fixed_weirs_from_raw_data(config=\"relief_config\", defaults=defaults)\n",
    "    dhd.fixed_weirs_from_raw_data(config=\"noordzeekeringen_config\", defaults=defaults)\n",
    "    \n",
    "    dhd.hydamo_to_gpkg(output_gpkg=gpkg_file)\n",
    "\n"
   ]
  },
  {
   "cell_type": "markdown",
   "id": "0430d79e",
   "metadata": {},
   "source": [
    "# 3. Load geopackage\n",
    "\n",
    "Onderstaand wordt een gecombineerde geopackage gecreërd op basis van reeds bestaande geopackages, zoals gespecificeerd in gpks_list. Om dit geopackage te creëren, dienen de paden naar de juiste databestanden in de laatste drie config bestanden nog worden aangepast: wegen_config, relief_config en noordzeekeringen_config. \n",
    "\n",
    "**Open deze config bestanden in de editor naar keuze en pas de paden aan naar de juiste locatie op je computer. Herstart vervolgens dit Jupyter Notebook om de aanpassingen in te laden (Kernel -> Restart & Clear Output).** \n"
   ]
  },
  {
   "cell_type": "code",
   "execution_count": 6,
   "id": "ef3ea187",
   "metadata": {},
   "outputs": [
    {
     "name": "stdout",
     "output_type": "stream",
     "text": [
      "\n",
      "C:\\Werk\\Projecten\\P1414_ROI\\Cursus\\GIS\\HYDAMO\\HHSK.gpkg loaded.\n",
      "\n",
      "C:\\Werk\\Projecten\\P1414_ROI\\Cursus\\GIS\\HYDAMO\\HDSR.gpkg loaded.\n",
      "\n",
      "C:\\Werk\\Projecten\\P1414_ROI\\Cursus\\GIS\\HYDAMO\\HHD.gpkg loaded.\n",
      "\n",
      "C:\\Werk\\Projecten\\P1414_ROI\\Cursus\\GIS\\HYDAMO\\HHR.gpkg loaded.\n",
      "\n",
      "C:\\Werk\\Projecten\\P1414_ROI\\Cursus\\GIS\\HYDAMO\\WAGV.gpkg loaded.\n",
      "\n",
      "C:\\Werk\\Projecten\\P1414_ROI\\Cursus\\GIS\\HYDAMO\\ARKNZK.gpkg loaded.\n",
      "\n",
      "C:\\Werk\\Projecten\\P1414_ROI\\Cursus\\GIS\\HYDAMO\\Rijntakken.gpkg loaded.\n",
      "\n",
      "C:\\Werk\\Projecten\\P1414_ROI\\Cursus\\GIS\\HYDAMO\\RMM_closed.gpkg loaded.\n",
      "\n",
      "C:\\Werk\\Projecten\\P1414_ROI\\Cursus\\GIS\\HYDAMO\\noordzee_hoog.gpkg loaded.\n",
      "\n",
      "C:\\Werk\\Projecten\\P1414_ROI\\Cursus\\GIS\\HYDAMO\\markermeer.gpkg loaded.\n",
      "\n",
      "C:\\Werk\\Projecten\\P1414_ROI\\Cursus\\GIS\\HYDAMO\\tunnels.gpkg loaded.\n",
      "\n",
      "C:\\Werk\\Projecten\\P1414_ROI\\Cursus\\GIS\\HYDAMO\\Ontbrekende_stuwen.gpkg loaded.\n",
      "Combined geopackage created: C:\\Werk\\Projecten\\P1414_ROI\\Cursus\\GIS\\HYDAMO\\Combined_cursus_ROI.gpkg\n"
     ]
    }
   ],
   "source": [
    "if load_gpkgs:\n",
    "    dhd = DHydroData()\n",
    "    for ix, gpkg in enumerate(gpkgs_list):\n",
    "\n",
    "        # load data\n",
    "        dhd.hydamo_from_gpkg(gpkg, branch_snap_dist=snap_dist_list[ix])\n",
    "        \n",
    "        print(\"\\n\" + gpkg + ' loaded.')\n",
    "        \n",
    "#     dhd.fixed_weirs_from_raw_data(config=\"wegen_config\", defaults=defaults)\n",
    "#     dhd.fixed_weirs_from_raw_data(config=\"relief_config\", defaults=defaults)\n",
    "#     dhd.fixed_weirs_from_raw_data(config=\"noordzeekeringen_config\", defaults=defaults)\n",
    "    \n",
    "    dhd.hydamo_to_gpkg(output_gpkg=gpkg_file)\n",
    "    print('Combined geopackage created: '+gpkg_file)\n"
   ]
  },
  {
   "cell_type": "markdown",
   "id": "6f537083",
   "metadata": {},
   "source": [
    "# 4. Build model\n",
    "\n",
    "Onderstaand wordt het model opgebouwd op basis van de gecombineerde geopackage. Hierin worden ook de settings uit _config_dhydro_ gebruikt. In dit bestand worden ook randvoorwaarde en een dijkdoorbraak gespecificeerd. Dit kan bij het doorrekenen van het model met de SAS_run_model nog worden aangepast. \n",
    "\n",
    "**Pas de volgende padverwijzingen aan in config_dhydro om het model juist te kunnen runnen:**\n",
    "- elevation_raster_path\n",
    "- extent_path\n",
    "- initial_peil_raster_path\n",
    "- roughness_2d_raster_path\n",
    "- dambreak_path (in class DamBreak)\n",
    "\n",
    "Voor de cursus wordt aangeraden om, mocht dat gewenst zijn, de gridgrootte van het 2D grid te veranderen (dx en dy in class Models.two_d). Deze aanpassingen zijn getest tijdens ontwikkeling van het ROI. Het config_dhydro bestand maakt het eenvoudig om ook de extent van het 2D grid (voor regionale modellering) aan te passen, maar dat is in deze fase van het ROI nog niet uitvoerig getest. \n",
    "\n",
    "Bij het aanpassen van het 2D grid: het genereren van een gedetailleerd grid duurt lang en resulteert in lange rekentijden. \n",
    "\n",
    "##### Let op: als je iets hebt aangepast in deze bestanden (verwijzingen of instellingen) is het noodzakelijk om de Jupyter Notebook opnieuw op te starten. Na het definiëren van je paden en verwijzingen kun je direct naar deze cel om het model op te bouwen uit het gecombineerde geopackage.\n",
    "\n",
    "\n"
   ]
  },
  {
   "cell_type": "code",
   "execution_count": null,
   "id": "ca72a16e",
   "metadata": {},
   "outputs": [],
   "source": [
    "if build_model:\n",
    "    # 1. initialize an instance of DHydamoData\n",
    "    dhd = DHydroData()\n",
    "\n",
    "    # 2. load data\n",
    "    dhd.hydamo_from_gpkg(gpkg_file)\n",
    "\n",
    "    # Huidige versie: verwijder bruggen omdat er nog geen brugprofielen beschikbaar zijn\n",
    "    del dhd.ddm.brug\n",
    "    dhd.features.remove(\"brug\")\n",
    "    \n",
    "    # Voor overstromingsmodel: zet pompcapaciteit op 0 (alleen kerend)\n",
    "    dhd.ddm.pomp[\"maximalecapaciteit\"] = 0\n",
    "\n",
    "    # 3. save as dhydro model\n",
    "    dhd.to_dhydro(config=config_dhydro, output_folder=output_folder)\n"
   ]
  },
  {
   "cell_type": "markdown",
   "id": "f9a36477",
   "metadata": {},
   "source": [
    "##### Einde modelbouw\n",
    "Met deze laatste stap is de modelbouw afgerond. Kopiëer het model naar de Model_database folder om het met de SAS_run_model door te kunnen rekenen."
   ]
  }
 ],
 "metadata": {
  "kernelspec": {
   "display_name": "Python 3 (ipykernel)",
   "language": "python",
   "name": "python3"
  },
  "language_info": {
   "codemirror_mode": {
    "name": "ipython",
    "version": 3
   },
   "file_extension": ".py",
   "mimetype": "text/x-python",
   "name": "python",
   "nbconvert_exporter": "python",
   "pygments_lexer": "ipython3",
   "version": "3.10.10"
  }
 },
 "nbformat": 4,
 "nbformat_minor": 5
}
