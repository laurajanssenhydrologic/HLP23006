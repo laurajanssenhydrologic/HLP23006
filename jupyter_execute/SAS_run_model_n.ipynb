{
 "cells": [
  {
   "cell_type": "markdown",
   "id": "c4738060",
   "metadata": {},
   "source": [
    "# 0. Imports"
   ]
  },
  {
   "cell_type": "code",
   "execution_count": 1,
   "id": "72355c7c",
   "metadata": {},
   "outputs": [
    {
     "ename": "ModuleNotFoundError",
     "evalue": "No module named 'notebooks'",
     "output_type": "error",
     "traceback": [
      "\u001b[1;31m---------------------------------------------------------------------------\u001b[0m",
      "\u001b[1;31mModuleNotFoundError\u001b[0m                       Traceback (most recent call last)",
      "Cell \u001b[1;32mIn[1], line 12\u001b[0m\n\u001b[0;32m      9\u001b[0m sys\u001b[38;5;241m.\u001b[39mpath\u001b[38;5;241m.\u001b[39mappend(os\u001b[38;5;241m.\u001b[39mpath\u001b[38;5;241m.\u001b[39mjoin(git_dir, \u001b[38;5;124m'\u001b[39m\u001b[38;5;124mHydroLogic_Inundation_toolbox\u001b[39m\u001b[38;5;124m'\u001b[39m))\n\u001b[0;32m     10\u001b[0m sys\u001b[38;5;241m.\u001b[39mpath\u001b[38;5;241m.\u001b[39mappend(os\u001b[38;5;241m.\u001b[39mpath\u001b[38;5;241m.\u001b[39mjoin(git_dir, \u001b[38;5;124m'\u001b[39m\u001b[38;5;124mHydroLogic_Inundation_toolbox/Readers\u001b[39m\u001b[38;5;124m'\u001b[39m))\n\u001b[1;32m---> 12\u001b[0m \u001b[38;5;28;01mfrom\u001b[39;00m \u001b[38;5;21;01mnotebooks\u001b[39;00m\u001b[38;5;21;01m.\u001b[39;00m\u001b[38;5;21;01mbackground_scripting\u001b[39;00m\u001b[38;5;21;01m.\u001b[39;00m\u001b[38;5;21;01mv1\u001b[39;00m\u001b[38;5;21;01m.\u001b[39;00m\u001b[38;5;21;01mtest_connection\u001b[39;00m \u001b[38;5;28;01mimport\u001b[39;00m TestConnection\n\u001b[0;32m     13\u001b[0m test_connection \u001b[38;5;241m=\u001b[39m TestConnection()\n",
      "\u001b[1;31mModuleNotFoundError\u001b[0m: No module named 'notebooks'"
     ]
    }
   ],
   "source": [
    "import os\n",
    "import sys\n",
    "import numpy as np\n",
    "%load_ext autoreload\n",
    "%autoreload 2\n",
    "\n",
    "git_dir = r\"C:\\Werk\\Projecten\\P1414_ROI\\Github_P1414\\P1414\"\n",
    "sys.path.append(os.path.join(git_dir, 'Code'))\n",
    "sys.path.append(os.path.join(git_dir, 'HydroLogic_Inundation_toolbox'))\n",
    "sys.path.append(os.path.join(git_dir, 'HydroLogic_Inundation_toolbox/Readers'))\n",
    "\n",
    "from notebooks.background_scripting.v1.test_connection import TestConnection\n",
    "test_connection = TestConnection()"
   ]
  },
  {
   "cell_type": "markdown",
   "id": "939bc46d",
   "metadata": {},
   "source": [
    "# 1. Model specifications"
   ]
  },
  {
   "cell_type": "markdown",
   "id": "41b2fc73",
   "metadata": {},
   "source": [
    "## 1.1. Select basemodel"
   ]
  },
  {
   "cell_type": "code",
   "execution_count": null,
   "id": "1417708d",
   "metadata": {},
   "outputs": [],
   "source": [
    "from notebooks.background_scripting.v1.select_basemodel import ModelSettings\n",
    "\n",
    "model_settings = ModelSettings()\n",
    "model_settings.display_widgets()"
   ]
  },
  {
   "cell_type": "markdown",
   "id": "ee9c2da4",
   "metadata": {},
   "source": [
    "## 1.2. Model settings"
   ]
  },
  {
   "cell_type": "code",
   "execution_count": null,
   "id": "2a5b329a",
   "metadata": {},
   "outputs": [],
   "source": [
    "import shutil\n",
    "from notebooks.background_scripting.v1.modify_mdu import ModifyMDU, copy_model\n",
    "\n",
    "model_path = copy_model(os.path.join(model_settings.settings['folder'], model_settings.settings['model']), model_settings.settings['scenario_name'])\n",
    "modify_mdu = ModifyMDU(model_path)\n",
    "modify_mdu.display_widgets()"
   ]
  },
  {
   "cell_type": "markdown",
   "id": "59aff6fe",
   "metadata": {},
   "source": [
    "## 1.3. Dambreak location"
   ]
  },
  {
   "cell_type": "code",
   "execution_count": null,
   "id": "19ef12ad",
   "metadata": {},
   "outputs": [],
   "source": [
    "from notebooks.background_scripting.v1.modify_dambreak_v2 import DambreakWidget\n",
    "\n",
    "dambreakWidget = DambreakWidget(model_path)\n",
    "dambreakWidget.draw_map()"
   ]
  },
  {
   "cell_type": "markdown",
   "id": "8304e43e",
   "metadata": {},
   "source": [
    "## 1.4. Dambreak settings"
   ]
  },
  {
   "cell_type": "code",
   "execution_count": null,
   "id": "11990570",
   "metadata": {},
   "outputs": [],
   "source": [
    "from notebooks.background_scripting.v1.modify_dambreak_v2 import ModifyDambreak\n",
    "\n",
    "add_dambreak = ModifyDambreak(model_path, dambreakWidget.settings, dambreakWidget.keringen)\n",
    "add_dambreak.display_widgets()"
   ]
  },
  {
   "cell_type": "markdown",
   "id": "27081e80",
   "metadata": {},
   "source": [
    "## 1.5. Boundary conditions"
   ]
  },
  {
   "cell_type": "code",
   "execution_count": null,
   "id": "3d2a7bee",
   "metadata": {},
   "outputs": [],
   "source": [
    "from notebooks.background_scripting.v1.modify_boundaries import ModifyBoundaries, ModifyRhineDischarge\n",
    "\n",
    "modify_boundaries = ModifyBoundaries(model_path, modify_mdu.settings, add_dambreak.dambreak_settings)\n",
    "modify_boundaries.display_widgets()"
   ]
  },
  {
   "cell_type": "markdown",
   "id": "574a2092",
   "metadata": {},
   "source": [
    "# 2. Run Model"
   ]
  },
  {
   "cell_type": "code",
   "execution_count": null,
   "id": "a9635d31",
   "metadata": {},
   "outputs": [],
   "source": [
    "from notebooks.background_scripting.v1.model_runner import ModelRunner\n",
    "\n",
    "model_runner = ModelRunner(model_path)\n",
    "model_runner.display_widgets()"
   ]
  },
  {
   "cell_type": "markdown",
   "id": "9ea79eef",
   "metadata": {},
   "source": [
    "# 3. Post processing"
   ]
  },
  {
   "cell_type": "markdown",
   "id": "922a4d4c",
   "metadata": {},
   "source": [
    "## 3.1. Plot map"
   ]
  },
  {
   "cell_type": "code",
   "execution_count": null,
   "id": "b0557ffd",
   "metadata": {},
   "outputs": [],
   "source": [
    "from notebooks.background_scripting.v1.post_processing import PlotSettingsMap, MapPlotter\n",
    "\n",
    "output_path = os.path.join(model_path, 'dflowfm\\output')\n",
    "plot_settings = PlotSettingsMap(output_path)\n",
    "plot_settings.display_widgets()"
   ]
  },
  {
   "cell_type": "markdown",
   "id": "c5d86527",
   "metadata": {},
   "source": [
    "## 3.2. Plot dambreak"
   ]
  },
  {
   "cell_type": "code",
   "execution_count": null,
   "id": "8e57180a",
   "metadata": {},
   "outputs": [],
   "source": [
    "from notebooks.background_scripting.v1.post_processing import PlotSettingsBreach, BreachPlotter\n",
    "\n",
    "\n",
    "output_path = os.path.join(model_path, 'dflowfm\\output')\n",
    "plot_settings = PlotSettingsBreach(output_path)\n",
    "plot_settings.display_widgets()\n"
   ]
  }
 ],
 "metadata": {
  "jupytext": {
   "text_representation": {
    "extension": ".md",
    "format_name": "myst",
    "format_version": 0.13,
    "jupytext_version": "1.14.5"
   }
  },
  "kernelspec": {
   "display_name": "Python 3 (ipykernel)",
   "language": "python",
   "name": "python3"
  },
  "language_info": {
   "codemirror_mode": {
    "name": "ipython",
    "version": 3
   },
   "file_extension": ".py",
   "mimetype": "text/x-python",
   "name": "python",
   "nbconvert_exporter": "python",
   "pygments_lexer": "ipython3",
   "version": "3.10.8"
  },
  "source_map": [
   12,
   16,
   30,
   34,
   38,
   43,
   47,
   54,
   58,
   63,
   67,
   72,
   76,
   81,
   85,
   90,
   94,
   98,
   104,
   108
  ]
 },
 "nbformat": 4,
 "nbformat_minor": 5
}