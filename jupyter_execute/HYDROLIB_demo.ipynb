{
 "cells": [
  {
   "cell_type": "markdown",
   "id": "815ba78b",
   "metadata": {},
   "source": [
    "# Demo for reading fou-file for example Tol\n",
    "The fou.nc file is read and *variable* is extracted. Next, the mesh data is converted to a raster and saved to a .tiff "
   ]
  },
  {
   "cell_type": "markdown",
   "id": "081cfb76",
   "metadata": {},
   "source": [
    "## 1. Import modules"
   ]
  },
  {
   "cell_type": "code",
   "execution_count": null,
   "id": "716e703a",
   "metadata": {},
   "outputs": [],
   "source": [
    "import os\n",
    "import sys\n",
    "from pathlib import Path\n",
    "\n",
    "currentdir = os.path.dirname(os.getcwd())\n",
    "sys.path.append(currentdir + r\"/HydroLogic_Inundation_toolbox\")\n",
    "sys.path.append(currentdir + r\"/HydroLogic_Inundation_toolbox/Readers\")\n",
    "\n",
    "from flowmeshreader import load_meta_data, load_fou_data, mesh_to_tiff\n",
    "from plotting import raster_plot_with_context"
   ]
  },
  {
   "cell_type": "markdown",
   "id": "7b9e5c06",
   "metadata": {},
   "source": [
    "## 2. Set input and output paths"
   ]
  },
  {
   "cell_type": "code",
   "execution_count": null,
   "id": "94c7eb18",
   "metadata": {},
   "outputs": [],
   "source": [
    "# set paths\n",
    "input_file_path = currentdir + r\"/HydroLogic_Inundation_toolbox/Data/Tol/input/1PT10_fou.nc\"\n",
    "output_file_path = currentdir + r\"/HydroLogic_Inundation_toolbox/Data/Tol/output/fou.tiff\"\n",
    "Path(currentdir + r\"/HydroLogic_Inundation_toolbox/Data/Tol/output\").mkdir(exist_ok=True)"
   ]
  },
  {
   "cell_type": "markdown",
   "id": "27f99e82",
   "metadata": {},
   "source": [
    "## 3. Set output raster options"
   ]
  },
  {
   "cell_type": "code",
   "execution_count": null,
   "id": "db33910e",
   "metadata": {},
   "outputs": [],
   "source": [
    "# raster options\n",
    "resolution = 10  # m\n",
    "distance_tol = 36  # m\n",
    "interpolation = r\"nearest\""
   ]
  },
  {
   "cell_type": "markdown",
   "id": "10ae433c",
   "metadata": {},
   "source": [
    "## 4. Read meta-data and set variable to read from fou.nc file\n",
    "### TODO: change variable to other options from list, and update figures accordingly"
   ]
  },
  {
   "cell_type": "code",
   "execution_count": null,
   "id": "b366dd6d",
   "metadata": {},
   "outputs": [],
   "source": [
    "print(load_meta_data(input_file_path))\n",
    "variable = r\"Mesh2d_fourier002_max_depth\""
   ]
  },
  {
   "cell_type": "markdown",
   "id": "2da9bf46",
   "metadata": {},
   "source": [
    "## 5. Load fou-map data from NetCDF file"
   ]
  },
  {
   "cell_type": "code",
   "execution_count": null,
   "id": "85311e39",
   "metadata": {},
   "outputs": [],
   "source": [
    "# load mesh coordinates and data from netCDF \n",
    "node_data = load_fou_data(input_file_path, variable)"
   ]
  },
  {
   "cell_type": "markdown",
   "id": "7625f8a8",
   "metadata": {},
   "source": [
    "## 6. Plot maximum water depth"
   ]
  },
  {
   "cell_type": "code",
   "execution_count": null,
   "id": "be7c50e6",
   "metadata": {},
   "outputs": [],
   "source": [
    "# convert to raster and save as tiff\n",
    "_, _, grid_data = mesh_to_tiff(\n",
    "    node_data,\n",
    "    input_file_path,\n",
    "    output_file_path,\n",
    "    resolution,\n",
    "    distance_tol,\n",
    "    interpolation=interpolation,\n",
    ")\n",
    "fig, ax = raster_plot_with_context(\n",
    "    raster_path = output_file_path, \n",
    "    epsg = 28992, \n",
    "    clabel = \"water depth (m)\", \n",
    "    cmap = \"Reds\", \n",
    "    title = \"Maximum water depth\",\n",
    "    )"
   ]
  },
  {
   "cell_type": "code",
   "execution_count": null,
   "id": "5deeedb8",
   "metadata": {},
   "outputs": [],
   "source": []
  }
 ],
 "metadata": {
  "kernelspec": {
   "display_name": "Python 3 (ipykernel)",
   "language": "python",
   "name": "python3"
  },
  "language_info": {
   "codemirror_mode": {
    "name": "ipython",
    "version": 3
   },
   "file_extension": ".py",
   "mimetype": "text/x-python",
   "name": "python",
   "nbconvert_exporter": "python",
   "pygments_lexer": "ipython3",
   "version": "3.10.8"
  }
 },
 "nbformat": 4,
 "nbformat_minor": 5
}